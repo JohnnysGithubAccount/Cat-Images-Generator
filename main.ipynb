{
 "cells": [
  {
   "cell_type": "markdown",
   "id": "a6b06f24-1465-4c5a-9bb2-b7ff859b33cd",
   "metadata": {},
   "source": [
    "# Import dependencies"
   ]
  },
  {
   "cell_type": "code",
   "execution_count": 1,
   "id": "c3e8c3fd-f738-4144-9e4f-a2cae3ceb047",
   "metadata": {},
   "outputs": [],
   "source": [
    "import tensorflow as tf\n",
    "import keras\n",
    "\n",
    "from tensorflow.keras import layers\n",
    "import matplotlib.pyplot as plt\n",
    "import os\n",
    "import gc\n",
    "import mlflow\n",
    "from typing import Dict"
   ]
  },
  {
   "cell_type": "markdown",
   "id": "71c0e4b8-496a-4573-926f-54d678ec0c92",
   "metadata": {},
   "source": [
    "# Prepare for mlflow"
   ]
  },
  {
   "cell_type": "code",
   "execution_count": 2,
   "id": "89961331-e17c-4cd2-8172-675537b1a386",
   "metadata": {},
   "outputs": [],
   "source": [
    "def get_and_set_experiment(\n",
    "        experiment_name: str,\n",
    "        artifact_path: str,\n",
    "        tags: Dict[str, str]) -> str:\n",
    "    \"\"\"\n",
    "    set the experiment for tracking using mlflow\n",
    "    :param experiment_name:name of the experiment\n",
    "    :param artifact_path: the name of the path that will save the artifacts\n",
    "    :param tags: informative key: value format\n",
    "    :return: experiment id\n",
    "    \"\"\"\n",
    "    try:\n",
    "        # try to create an experiment with the given name\n",
    "        experiment_id = mlflow.create_experiment(\n",
    "            name=experiment_name,\n",
    "            artifact_location=artifact_path,\n",
    "            tags=tags\n",
    "        )\n",
    "    except:\n",
    "        # if the experiment already exist, get the experiment id\n",
    "        experiment_id = mlflow.get_experiment_by_name(\n",
    "            name=experiment_name\n",
    "        ).experiment_id\n",
    "    finally:\n",
    "        # finally, set the experiment using the experiment name\n",
    "        mlflow.set_experiment(experiment_name=experiment_name)\n",
    "\n",
    "    return experiment_id"
   ]
  },
  {
   "cell_type": "markdown",
   "id": "1f9aa894-5426-4712-86de-06f43d76ab5b",
   "metadata": {},
   "source": [
    "### Setting the experiment and start the run"
   ]
  },
  {
   "cell_type": "code",
   "execution_count": 3,
   "id": "c1d878c2-cf8d-42c9-9aea-0786326c028c",
   "metadata": {},
   "outputs": [
    {
     "data": {
      "text/plain": [
       "'270657931257758153'"
      ]
     },
     "execution_count": 3,
     "metadata": {},
     "output_type": "execute_result"
    }
   ],
   "source": [
    "experiment_id = get_and_set_experiment(\n",
    "    experiment_name='Cat Images Generator',\n",
    "    artifact_path='artifacts',\n",
    "    tags={\n",
    "        'model type': 'Generative AI'\n",
    "    }\n",
    ")\n",
    "experiment_id"
   ]
  },
  {
   "cell_type": "code",
   "execution_count": 4,
   "id": "a7a5d580-b6f8-4583-84cd-c964a28645fe",
   "metadata": {},
   "outputs": [
    {
     "data": {
      "text/plain": [
       "<ActiveRun: >"
      ]
     },
     "execution_count": 4,
     "metadata": {},
     "output_type": "execute_result"
    }
   ],
   "source": [
    "mlflow.start_run()"
   ]
  },
  {
   "cell_type": "code",
   "execution_count": 5,
   "id": "d646ab2e-de3a-4770-9f78-78c2c5efe4a3",
   "metadata": {},
   "outputs": [
    {
     "data": {
      "text/plain": [
       "'6d5ec26eb32f456089142764ee67dfd0'"
      ]
     },
     "execution_count": 5,
     "metadata": {},
     "output_type": "execute_result"
    }
   ],
   "source": [
    "run_id  = mlflow.active_run().info.run_id\n",
    "run_id"
   ]
  },
  {
   "cell_type": "markdown",
   "id": "a0cb86e1-d7f0-4d4f-9cee-5f6e98df900e",
   "metadata": {},
   "source": [
    "# Load the dataset"
   ]
  },
  {
   "cell_type": "code",
   "execution_count": 6,
   "id": "6b1bbe9e-2530-48f6-bf1e-e04100f520a7",
   "metadata": {},
   "outputs": [
    {
     "name": "stdout",
     "output_type": "stream",
     "text": [
      "Found 15747 files belonging to 1 classes.\n"
     ]
    }
   ],
   "source": [
    "dataset = keras.utils.image_dataset_from_directory(\n",
    "    './data/cats',\n",
    "    label_mode=None,\n",
    "    image_size=(64, 64),\n",
    "    batch_size=mlflow.log_param('batch size', 32)\n",
    ")\n",
    "dataset = dataset.map(lambda x: x / 255.0)"
   ]
  },
  {
   "cell_type": "markdown",
   "id": "a988b182-19a6-4dcb-b1ab-312ab722c945",
   "metadata": {},
   "source": [
    "# Plot a sample"
   ]
  },
  {
   "cell_type": "code",
   "execution_count": 7,
   "id": "9a33beff-1956-465d-a9ef-e89dd09d413f",
   "metadata": {},
   "outputs": [
    {
     "data": {
      "image/png": "[encoded data removed]",
      "text/plain": [
       "<Figure size 640x480 with 1 Axes>"
      ]
     },
     "metadata": {},
     "output_type": "display_data"
    }
   ],
   "source": [
    "for x in dataset:\n",
    "    plt.axis(\"off\")\n",
    "    plt.imshow((x.numpy() * 255).astype(\"int32\")[0])\n",
    "    break"
   ]
  },
  {
   "cell_type": "markdown",
   "id": "01032529-b665-4d3d-975a-6818842d94b5",
   "metadata": {},
   "source": [
    "# Define discriminator"
   ]
  },
  {
   "cell_type": "code",
   "execution_count": 8,
   "id": "c23d0451-58bd-4996-864d-af50425f1911",
   "metadata": {},
   "outputs": [
    {
     "name": "stdout",
     "output_type": "stream",
     "text": [
      "Model: \"discriminator\"\n",
      "_________________________________________________________________\n",
      " Layer (type)                Output Shape              Param #   \n",
      "=================================================================\n",
      " conv2d (Conv2D)             (None, 32, 32, 64)        4864      \n",
      "                                                                 \n",
      " leaky_re_lu (LeakyReLU)     (None, 32, 32, 64)        0         \n",
      "                                                                 \n",
      " conv2d_1 (Conv2D)           (None, 32, 32, 128)       73856     \n",
      "                                                                 \n",
      " batch_normalization (BatchN  (None, 32, 32, 128)      512       \n",
      " ormalization)                                                   \n",
      "                                                                 \n",
      " leaky_re_lu_1 (LeakyReLU)   (None, 32, 32, 128)       0         \n",
      "                                                                 \n",
      " conv2d_2 (Conv2D)           (None, 32, 32, 256)       295168    \n",
      "                                                                 \n",
      " batch_normalization_1 (Batc  (None, 32, 32, 256)      1024      \n",
      " hNormalization)                                                 \n",
      "                                                                 \n",
      " leaky_re_lu_2 (LeakyReLU)   (None, 32, 32, 256)       0         \n",
      "                                                                 \n",
      " conv2d_3 (Conv2D)           (None, 32, 32, 512)       1180160   \n",
      "                                                                 \n",
      " batch_normalization_2 (Batc  (None, 32, 32, 512)      2048      \n",
      " hNormalization)                                                 \n",
      "                                                                 \n",
      " leaky_re_lu_3 (LeakyReLU)   (None, 32, 32, 512)       0         \n",
      "                                                                 \n",
      " flatten (Flatten)           (None, 524288)            0         \n",
      "                                                                 \n",
      " dense (Dense)               (None, 1)                 524289    \n",
      "                                                                 \n",
      "=================================================================\n",
      "Total params: 2,081,921\n",
      "Trainable params: 2,080,129\n",
      "Non-trainable params: 1,792\n",
      "_________________________________________________________________\n"
     ]
    }
   ],
   "source": [
    "discriminator = keras.Sequential([\n",
    "    layers.Input(shape=(64, 64, 3)),\n",
    "    \n",
    "    layers.Conv2D(64, kernel_size=5, strides=2, padding='same'),\n",
    "    layers.BatchNormalization(),\n",
    "    layers.LeakyReLU(alpha=0.2),\n",
    "    \n",
    "    layers.Conv2D(128, kernel_size=3, strides=1, padding='same'),\n",
    "    layers.BatchNormalization(),\n",
    "    layers.LeakyReLU(alpha=0.2),\n",
    "    \n",
    "    layers.Conv2D(256, kernel_size=3, strides=1, padding='same'),\n",
    "    layers.BatchNormalization(),\n",
    "    layers.LeakyReLU(alpha=0.2),\n",
    "\n",
    "    layers.Conv2D(512, kernel_size=3, strides=1, padding='same'),\n",
    "    layers.BatchNormalization(),\n",
    "    layers.LeakyReLU(alpha=0.2),\n",
    "    \n",
    "    layers.Flatten(),\n",
    "    # layers.Dropout(0.3),\n",
    "    layers.Dense(1, activation='sigmoid')\n",
    "], name=\"discriminator\")\n",
    "\n",
    "discriminator.summary()"
   ]
  },
  {
   "cell_type": "markdown",
   "id": "94156104-f270-46eb-86a8-26f46c260df3",
   "metadata": {},
   "source": [
    "# Define generator"
   ]
  },
  {
   "cell_type": "code",
   "execution_count": 9,
   "id": "24644228-5708-4052-8c22-1fa01568fe55",
   "metadata": {},
   "outputs": [
    {
     "name": "stdout",
     "output_type": "stream",
     "text": [
      "Model: \"generator\"\n",
      "_________________________________________________________________\n",
      " Layer (type)                Output Shape              Param #   \n",
      "=================================================================\n",
      " dense_1 (Dense)             (None, 16384)             2113536   \n",
      "                                                                 \n",
      " batch_normalization_3 (Batc  (None, 16384)            65536     \n",
      " hNormalization)                                                 \n",
      "                                                                 \n",
      " re_lu (ReLU)                (None, 16384)             0         \n",
      "                                                                 \n",
      " reshape (Reshape)           (None, 4, 4, 1024)        0         \n",
      "                                                                 \n",
      " conv2d_transpose (Conv2DTra  (None, 8, 8, 512)        13107712  \n",
      " nspose)                                                         \n",
      "                                                                 \n",
      " batch_normalization_4 (Batc  (None, 8, 8, 512)        2048      \n",
      " hNormalization)                                                 \n",
      "                                                                 \n",
      " re_lu_1 (ReLU)              (None, 8, 8, 512)         0         \n",
      "                                                                 \n",
      " conv2d_transpose_1 (Conv2DT  (None, 16, 16, 256)      3277056   \n",
      " ranspose)                                                       \n",
      "                                                                 \n",
      " batch_normalization_5 (Batc  (None, 16, 16, 256)      1024      \n",
      " hNormalization)                                                 \n",
      "                                                                 \n",
      " re_lu_2 (ReLU)              (None, 16, 16, 256)       0         \n",
      "                                                                 \n",
      " conv2d_transpose_2 (Conv2DT  (None, 32, 32, 128)      819328    \n",
      " ranspose)                                                       \n",
      "                                                                 \n",
      " batch_normalization_6 (Batc  (None, 32, 32, 128)      512       \n",
      " hNormalization)                                                 \n",
      "                                                                 \n",
      " re_lu_3 (ReLU)              (None, 32, 32, 128)       0         \n",
      "                                                                 \n",
      " conv2d_transpose_3 (Conv2DT  (None, 64, 64, 3)        3459      \n",
      " ranspose)                                                       \n",
      "                                                                 \n",
      "=================================================================\n",
      "Total params: 19,390,211\n",
      "Trainable params: 19,355,651\n",
      "Non-trainable params: 34,560\n",
      "_________________________________________________________________\n"
     ]
    }
   ],
   "source": [
    "latent_dim = mlflow.log_param('laten dim', 128)\n",
    "\n",
    "generator  = keras.Sequential([\n",
    "    layers.Input(shape=(latent_dim,)),\n",
    "    \n",
    "    layers.Dense(4 * 4 * 1024),\n",
    "    layers.BatchNormalization(),\n",
    "    layers.ReLU(),\n",
    "    layers.Reshape((4, 4, 1024)),\n",
    "    \n",
    "    layers.Conv2DTranspose(512, kernel_size=5, strides=2, padding='same'),\n",
    "    layers.BatchNormalization(),\n",
    "    layers.ReLU(),\n",
    "    \n",
    "    layers.Conv2DTranspose(256, kernel_size=5, strides=2, padding='same'),\n",
    "    layers.BatchNormalization(),\n",
    "    layers.ReLU(),\n",
    "    \n",
    "    layers.Conv2DTranspose(128, kernel_size=5, strides=2, padding='same'),\n",
    "    layers.BatchNormalization(),\n",
    "    layers.ReLU(),\n",
    "    \n",
    "    layers.Conv2DTranspose(3, kernel_size=3, strides=2, padding='same', activation='tanh')\n",
    "], name='generator')\n",
    "\n",
    "generator.summary()"
   ]
  },
  {
   "cell_type": "markdown",
   "id": "dc17051b-9538-40ba-b0e0-e977b439b13a",
   "metadata": {},
   "source": [
    "# Custome training process"
   ]
  },
  {
   "cell_type": "code",
   "execution_count": 10,
   "id": "d8760149-10ef-4cf6-b04a-e5a08f9240a8",
   "metadata": {},
   "outputs": [],
   "source": [
    "class GAN(keras.models.Model):\n",
    "    def __init__(self, discriminator, generator, latent_dim):\n",
    "        super().__init__()\n",
    "        self.discriminator = discriminator\n",
    "        self.generator = generator\n",
    "        self.latent_dim = latent_dim\n",
    "        self.seed = mlflow.log_param('GAN seed', 1337)\n",
    "\n",
    "    def compile(self, d_optimizer, g_optimizer, loss_fn):\n",
    "        super().compile()\n",
    "        self.d_optimizer = d_optimizer\n",
    "        self.g_optimizer = g_optimizer\n",
    "        self.loss_fn = loss_fn\n",
    "        self.d_loss_metric = keras.metrics.Mean(name='d_loss')\n",
    "        self.g_loss_metric = keras.metrics.Mean(name='g_loss')\n",
    "\n",
    "    @property\n",
    "    def metrics(self):\n",
    "        return [self.d_loss_metric, self.g_loss_metric]\n",
    "\n",
    "    def train_step(self, real_images):\n",
    "        batch_size = tf.shape(real_images)[0]\n",
    "\n",
    "        random_latent_vectors = tf.random.normal(\n",
    "            shape=(batch_size, self.latent_dim),\n",
    "            seed=self.seed\n",
    "        )\n",
    "\n",
    "        generated_images = self.generator(random_latent_vectors)\n",
    "\n",
    "        combined_images = tf.concat([generated_images, real_images], axis=0)\n",
    "\n",
    "        labels = tf.concat([tf.ones((batch_size, 1)), tf.zeros((batch_size, 1))], axis=0)\n",
    "\n",
    "        # labels += 0.05 * tf.random.uniform(tf.shape(labels))\n",
    "\n",
    "        with tf.GradientTape() as tape:\n",
    "            predictions = self.discriminator(combined_images)\n",
    "            d_loss = self.loss_fn(labels, predictions)\n",
    "\n",
    "        grads = tape.gradient(d_loss, self.discriminator.trainable_weights)\n",
    "        self.d_optimizer.apply_gradients(\n",
    "            zip(grads, self.discriminator.trainable_weights)\n",
    "        )\n",
    "\n",
    "        random_latent_vectors = tf.random.normal(\n",
    "            shape=(batch_size, self.latent_dim), seed=self.seed\n",
    "        )\n",
    "\n",
    "        misleading_labels = tf.zeros((batch_size, 1))\n",
    "\n",
    "        with tf.GradientTape() as tape:\n",
    "            predictions = self.discriminator(self.generator(random_latent_vectors))\n",
    "            g_loss = self.loss_fn(misleading_labels, predictions)\n",
    "\n",
    "        grads = tape.gradient(g_loss, self.generator.trainable_weights)\n",
    "        self.g_optimizer.apply_gradients(zip(grads, self.generator.trainable_weights))\n",
    "\n",
    "        self.d_loss_metric.update_state(d_loss)\n",
    "        self.g_loss_metric.update_state(g_loss)\n",
    "\n",
    "        return {\n",
    "            \"d_loss\": self.d_loss_metric.result(),\n",
    "            \"g_loss\": self.g_loss_metric.result(),\n",
    "        }"
   ]
  },
  {
   "cell_type": "markdown",
   "id": "e1aefb3e-d72c-43ac-a33b-5faa552c7003",
   "metadata": {},
   "source": [
    "# Log the output image periodicaly callbacks"
   ]
  },
  {
   "cell_type": "code",
   "execution_count": 11,
   "id": "57043ad2-553c-4aa4-99da-d929a3ea0ef2",
   "metadata": {},
   "outputs": [],
   "source": [
    "class GANMonitor(keras.callbacks.Callback):\n",
    "    def __init__(self, num_img=5, latent_dim=128):\n",
    "        self.num_img = num_img\n",
    "        self.latent_dim = latent_dim\n",
    "        self.seed = mlflow.log_param('Monitoring seed', 42)\n",
    "\n",
    "    def on_epoch_end(self, epoch, logs=None):\n",
    "        random_latent_vectors = tf.random.normal(\n",
    "            shape=(self.num_img ** 2, self.latent_dim), \n",
    "            seed=42\n",
    "        )\n",
    "        generated_images = self.model.generator(random_latent_vectors)\n",
    "        generated_images *= 255\n",
    "        generated_images.numpy()\n",
    "\n",
    "        fig, axes = plt.subplots(self.num_img, self.num_img, figsize=(10, 10))\n",
    "        axes = axes.flatten()\n",
    "        \n",
    "        # for i in range(self.num_img ** 2):\n",
    "        for i, ax in enumerate(axes):\n",
    "            img = keras.utils.array_to_img(generated_images[i])\n",
    "            ax.imshow(img)\n",
    "            ax.axis('off')\n",
    "\n",
    "            mlflow.log_metric('discriminator loss', logs[\"d_loss\"], step=epoch)\n",
    "            mlflow.log_metric('generator loss', logs[\"g_loss\"], step=epoch)\n",
    "            mlflow.log_figure(fig, f\"Generated Images/Epoch {epoch}.png\")\n",
    "\n",
    "            plt.close(fig)"
   ]
  },
  {
   "cell_type": "markdown",
   "id": "9aae3015-9735-49ad-a73a-ee4b69b10f54",
   "metadata": {},
   "source": [
    "# Initialize the models"
   ]
  },
  {
   "cell_type": "code",
   "execution_count": 12,
   "id": "29e30035-24f3-41af-a1b3-e3ad90b5d858",
   "metadata": {},
   "outputs": [],
   "source": [
    "gan = GAN(\n",
    "    discriminator=discriminator,\n",
    "    generator=generator,\n",
    "    latent_dim=latent_dim,\n",
    ")\n",
    "\n",
    "\n",
    "mlflow.log_param('discriminator optimizer', 'Adam')\n",
    "mlflow.log_param('generator optimizer', 'Adam')\n",
    "\n",
    "    \n",
    "gan.compile(\n",
    "    d_optimizer=keras.optimizers.Adam(learning_rate=mlflow.log_param('discriminator learning rate', 0.0001)),\n",
    "    g_optimizer=keras.optimizers.Adam(learning_rate=mlflow.log_param('generator learning rate', 0.0001)),\n",
    "    loss_fn=keras.losses.BinaryCrossentropy(),\n",
    ")"
   ]
  },
  {
   "cell_type": "markdown",
   "id": "cf5c9190-0dbf-4d0d-b0b3-5302efc017f6",
   "metadata": {},
   "source": [
    "### Begin the training process"
   ]
  },
  {
   "cell_type": "code",
   "execution_count": 13,
   "id": "dc3236a2-b43f-41a6-b47a-f146f7c2c59c",
   "metadata": {
    "scrolled": true
   },
   "outputs": [
    {
     "name": "stdout",
     "output_type": "stream",
     "text": [
      "Epoch 1/50\n",
      "493/493 [==============================] - 800s 1s/step - d_loss: 0.3497 - g_loss: 10.1280\n",
      "Epoch 2/50\n",
      "493/493 [==============================] - 852s 2s/step - d_loss: 0.5053 - g_loss: 7.0116\n",
      "Epoch 3/50\n",
      "493/493 [==============================] - 755s 2s/step - d_loss: 0.4670 - g_loss: 4.3033\n",
      "Epoch 4/50\n",
      "493/493 [==============================] - 593s 1s/step - d_loss: 0.6129 - g_loss: 6.5591\n",
      "Epoch 5/50\n",
      "493/493 [==============================] - 540s 1s/step - d_loss: 0.8763 - g_loss: 6.1741\n",
      "Epoch 6/50\n",
      "493/493 [==============================] - 494s 1s/step - d_loss: 0.6982 - g_loss: 4.7172\n",
      "Epoch 7/50\n",
      "493/493 [==============================] - 483s 980ms/step - d_loss: 0.5148 - g_loss: 1.9162\n",
      "Epoch 8/50\n",
      "493/493 [==============================] - 871s 2s/step - d_loss: 0.4168 - g_loss: 2.4550\n",
      "Epoch 9/50\n",
      "493/493 [==============================] - 878s 2s/step - d_loss: 0.3528 - g_loss: 4.0915\n",
      "Epoch 10/50\n",
      "493/493 [==============================] - 727s 1s/step - d_loss: 0.3276 - g_loss: 3.2157\n",
      "Epoch 11/50\n",
      "493/493 [==============================] - 809s 2s/step - d_loss: 0.3492 - g_loss: 4.8224\n",
      "Epoch 12/50\n",
      "493/493 [==============================] - 899s 2s/step - d_loss: 0.3135 - g_loss: 4.2647\n",
      "Epoch 13/50\n",
      "493/493 [==============================] - 895s 2s/step - d_loss: 0.3819 - g_loss: 3.3292\n",
      "Epoch 14/50\n",
      "493/493 [==============================] - 898s 2s/step - d_loss: 0.4115 - g_loss: 4.2052\n",
      "Epoch 15/50\n",
      "493/493 [==============================] - 897s 2s/step - d_loss: 0.4019 - g_loss: 4.0214\n",
      "Epoch 16/50\n",
      "493/493 [==============================] - 898s 2s/step - d_loss: 0.3653 - g_loss: 3.9859\n",
      "Epoch 17/50\n",
      "493/493 [==============================] - 897s 2s/step - d_loss: 0.4348 - g_loss: 4.4049\n",
      "Epoch 18/50\n",
      "493/493 [==============================] - 898s 2s/step - d_loss: 0.4282 - g_loss: 4.3824\n",
      "Epoch 19/50\n",
      "493/493 [==============================] - 898s 2s/step - d_loss: 0.4874 - g_loss: 4.9915\n",
      "Epoch 20/50\n",
      "493/493 [==============================] - 897s 2s/step - d_loss: 0.4409 - g_loss: 3.9734\n",
      "Epoch 21/50\n",
      "493/493 [==============================] - 897s 2s/step - d_loss: 0.4564 - g_loss: 4.1465\n",
      "Epoch 22/50\n",
      "493/493 [==============================] - 898s 2s/step - d_loss: 0.4346 - g_loss: 3.6322\n",
      "Epoch 23/50\n",
      "493/493 [==============================] - 897s 2s/step - d_loss: 0.3684 - g_loss: 3.6302\n",
      "Epoch 24/50\n",
      "493/493 [==============================] - 898s 2s/step - d_loss: 0.4018 - g_loss: 3.7990\n",
      "Epoch 25/50\n",
      "493/493 [==============================] - 897s 2s/step - d_loss: 0.3776 - g_loss: 3.3700\n",
      "Epoch 26/50\n",
      "493/493 [==============================] - 898s 2s/step - d_loss: 0.4930 - g_loss: 5.0882\n",
      "Epoch 27/50\n",
      "493/493 [==============================] - 897s 2s/step - d_loss: 0.4542 - g_loss: 3.6115\n",
      "Epoch 28/50\n",
      "493/493 [==============================] - 897s 2s/step - d_loss: 0.4302 - g_loss: 3.8067\n",
      "Epoch 29/50\n",
      "493/493 [==============================] - 897s 2s/step - d_loss: 0.4049 - g_loss: 3.5673\n",
      "Epoch 30/50\n",
      "493/493 [==============================] - 897s 2s/step - d_loss: 0.5024 - g_loss: 5.0297\n",
      "Epoch 31/50\n",
      "493/493 [==============================] - 898s 2s/step - d_loss: 0.4744 - g_loss: 6.9277\n",
      "Epoch 32/50\n",
      "493/493 [==============================] - 898s 2s/step - d_loss: 0.4047 - g_loss: 3.3217\n",
      "Epoch 33/50\n",
      "493/493 [==============================] - 897s 2s/step - d_loss: 0.4573 - g_loss: 3.1577\n",
      "Epoch 34/50\n",
      "493/493 [==============================] - 897s 2s/step - d_loss: 0.4618 - g_loss: 4.1100\n",
      "Epoch 35/50\n",
      "493/493 [==============================] - 897s 2s/step - d_loss: 0.4180 - g_loss: 3.3286\n",
      "Epoch 36/50\n",
      "493/493 [==============================] - 898s 2s/step - d_loss: 0.4145 - g_loss: 3.0236\n",
      "Epoch 37/50\n",
      "493/493 [==============================] - 898s 2s/step - d_loss: 0.4599 - g_loss: 4.4945\n",
      "Epoch 38/50\n",
      "493/493 [==============================] - 896s 2s/step - d_loss: 0.4703 - g_loss: 4.4198\n",
      "Epoch 39/50\n",
      "493/493 [==============================] - 898s 2s/step - d_loss: 0.4092 - g_loss: 3.1748\n",
      "Epoch 40/50\n",
      "493/493 [==============================] - 822s 2s/step - d_loss: 0.4093 - g_loss: 3.7953\n",
      "Epoch 41/50\n",
      "493/493 [==============================] - 856s 2s/step - d_loss: 0.4776 - g_loss: 4.0687\n",
      "Epoch 42/50\n",
      "493/493 [==============================] - 898s 2s/step - d_loss: 0.4986 - g_loss: 3.8454\n",
      "Epoch 43/50\n",
      "493/493 [==============================] - 884s 2s/step - d_loss: 0.3965 - g_loss: 3.5048\n",
      "Epoch 44/50\n",
      "493/493 [==============================] - 895s 2s/step - d_loss: 0.4578 - g_loss: 3.9976\n",
      "Epoch 45/50\n",
      "493/493 [==============================] - 726s 1s/step - d_loss: 0.4386 - g_loss: 3.3685\n",
      "Epoch 46/50\n",
      "493/493 [==============================] - 873s 2s/step - d_loss: 0.4490 - g_loss: 3.6297\n",
      "Epoch 47/50\n",
      "493/493 [==============================] - 867s 2s/step - d_loss: 0.3990 - g_loss: 2.9770\n",
      "Epoch 48/50\n",
      "493/493 [==============================] - 495s 1s/step - d_loss: 0.4893 - g_loss: 4.2277\n",
      "Epoch 49/50\n",
      "493/493 [==============================] - 609s 1s/step - d_loss: 0.4680 - g_loss: 3.2937\n",
      "Epoch 50/50\n",
      "493/493 [==============================] - 635s 1s/step - d_loss: 0.4644 - g_loss: 2.9614\n"
     ]
    },
    {
     "data": {
      "text/plain": [
       "<keras.callbacks.History at 0x23dc4966950>"
      ]
     },
     "execution_count": 13,
     "metadata": {},
     "output_type": "execute_result"
    }
   ],
   "source": [
    "epochs = mlflow.log_param('epochs', 50)\n",
    "\n",
    "gan.fit(\n",
    "    dataset, \n",
    "    epochs=epochs, \n",
    "    callbacks=[GANMonitor(latent_dim=latent_dim)]\n",
    ")"
   ]
  },
  {
   "cell_type": "markdown",
   "id": "c7ef8ea5-0b2f-4369-8ea5-08649c01dc6f",
   "metadata": {},
   "source": [
    "### Logging models"
   ]
  },
  {
   "cell_type": "code",
   "execution_count": 14,
   "id": "a2f05423-a65b-4631-82b7-29b9becc66d7",
   "metadata": {},
   "outputs": [
    {
     "name": "stderr",
     "output_type": "stream",
     "text": [
      "2024/08/10 08:48:12 WARNING mlflow.tensorflow: You are saving a TensorFlow Core model or Keras model without a signature. Inference with mlflow.pyfunc.spark_udf() will not work unless the model's pyfunc representation accepts pandas DataFrames as inference inputs.\n"
     ]
    },
    {
     "name": "stdout",
     "output_type": "stream",
     "text": [
      "WARNING:tensorflow:Compiled the loaded model, but the compiled metrics have yet to be built. `model.compile_metrics` will be empty until you train or evaluate the model.\n"
     ]
    },
    {
     "name": "stderr",
     "output_type": "stream",
     "text": [
      "WARNING:absl:Found untraced functions such as _jit_compiled_convolution_op, _jit_compiled_convolution_op, _jit_compiled_convolution_op, _jit_compiled_convolution_op while saving (showing 4 of 4). These functions will not be directly callable after loading.\n"
     ]
    },
    {
     "name": "stdout",
     "output_type": "stream",
     "text": [
      "INFO:tensorflow:Assets written to: C:\\Users\\Admins\\AppData\\Local\\Temp\\tmp88m0fu4r\\model\\data\\model\\assets\n"
     ]
    },
    {
     "name": "stderr",
     "output_type": "stream",
     "text": [
      "INFO:tensorflow:Assets written to: C:\\Users\\Admins\\AppData\\Local\\Temp\\tmp88m0fu4r\\model\\data\\model\\assets\n",
      "D:\\UsingSpace\\anaconda3\\envs\\tfgpu\\lib\\site-packages\\_distutils_hack\\__init__.py:33: UserWarning: Setuptools is replacing distutils.\n",
      "  warnings.warn(\"Setuptools is replacing distutils.\")\n",
      "2024/08/10 08:48:26 WARNING mlflow.models.model: Input example should be provided to infer model signature if the model signature is not provided when logging the model.\n",
      "2024/08/10 08:48:26 WARNING mlflow.tensorflow: You are saving a TensorFlow Core model or Keras model without a signature. Inference with mlflow.pyfunc.spark_udf() will not work unless the model's pyfunc representation accepts pandas DataFrames as inference inputs.\n"
     ]
    },
    {
     "name": "stdout",
     "output_type": "stream",
     "text": [
      "WARNING:tensorflow:Compiled the loaded model, but the compiled metrics have yet to be built. `model.compile_metrics` will be empty until you train or evaluate the model.\n"
     ]
    },
    {
     "name": "stderr",
     "output_type": "stream",
     "text": [
      "WARNING:tensorflow:Compiled the loaded model, but the compiled metrics have yet to be built. `model.compile_metrics` will be empty until you train or evaluate the model.\n",
      "WARNING:absl:Found untraced functions such as _jit_compiled_convolution_op, _jit_compiled_convolution_op, _jit_compiled_convolution_op, _jit_compiled_convolution_op while saving (showing 4 of 4). These functions will not be directly callable after loading.\n"
     ]
    },
    {
     "name": "stdout",
     "output_type": "stream",
     "text": [
      "INFO:tensorflow:Assets written to: C:\\Users\\Admins\\AppData\\Local\\Temp\\tmpxr03dtp2\\model\\data\\model\\assets\n"
     ]
    },
    {
     "name": "stderr",
     "output_type": "stream",
     "text": [
      "INFO:tensorflow:Assets written to: C:\\Users\\Admins\\AppData\\Local\\Temp\\tmpxr03dtp2\\model\\data\\model\\assets\n",
      "2024/08/10 08:48:33 WARNING mlflow.models.model: Input example should be provided to infer model signature if the model signature is not provided when logging the model.\n"
     ]
    },
    {
     "data": {
      "text/plain": [
       "<mlflow.models.model.ModelInfo at 0x23f95c0cc10>"
      ]
     },
     "execution_count": 14,
     "metadata": {},
     "output_type": "execute_result"
    }
   ],
   "source": [
    "mlflow.tensorflow.log_model(gan.generator, 'generator')\n",
    "mlflow.tensorflow.log_model(gan.discriminator, 'discriminator')"
   ]
  },
  {
   "cell_type": "code",
   "execution_count": 15,
   "id": "d26e32d5-d4f1-4dfc-bb9d-c093ca720e85",
   "metadata": {},
   "outputs": [],
   "source": [
    "mlflow.end_run()"
   ]
  },
  {
   "cell_type": "code",
   "execution_count": 18,
   "id": "ea12e508-c04a-4e9e-802a-f73d91a1ba10",
   "metadata": {},
   "outputs": [
    {
     "name": "stderr",
     "output_type": "stream",
     "text": [
      "2024/08/10 08:57:16 WARNING mlflow.tensorflow: You are saving a TensorFlow Core model or Keras model without a signature. Inference with mlflow.pyfunc.spark_udf() will not work unless the model's pyfunc representation accepts pandas DataFrames as inference inputs.\n"
     ]
    },
    {
     "name": "stdout",
     "output_type": "stream",
     "text": [
      "WARNING:tensorflow:Compiled the loaded model, but the compiled metrics have yet to be built. `model.compile_metrics` will be empty until you train or evaluate the model.\n"
     ]
    },
    {
     "name": "stderr",
     "output_type": "stream",
     "text": [
      "WARNING:tensorflow:Compiled the loaded model, but the compiled metrics have yet to be built. `model.compile_metrics` will be empty until you train or evaluate the model.\n",
      "WARNING:absl:Found untraced functions such as _jit_compiled_convolution_op, _jit_compiled_convolution_op, _jit_compiled_convolution_op, _jit_compiled_convolution_op while saving (showing 4 of 4). These functions will not be directly callable after loading.\n"
     ]
    },
    {
     "name": "stdout",
     "output_type": "stream",
     "text": [
      "INFO:tensorflow:Assets written to: C:\\Users\\Admins\\AppData\\Local\\Temp\\tmpre7iio6s\\model\\data\\model\\assets\n"
     ]
    },
    {
     "name": "stderr",
     "output_type": "stream",
     "text": [
      "INFO:tensorflow:Assets written to: C:\\Users\\Admins\\AppData\\Local\\Temp\\tmpre7iio6s\\model\\data\\model\\assets\n",
      "2024/08/10 08:57:26 WARNING mlflow.models.model: Input example should be provided to infer model signature if the model signature is not provided when logging the model.\n"
     ]
    }
   ],
   "source": [
    "with mlflow.start_run(run_id=\"6d5ec26eb32f456089142764ee67dfd0\") as runner:\n",
    "    mlflow.tensorflow.log_model(gan.generator, 'gan')"
   ]
  },
  {
   "cell_type": "markdown",
   "id": "8803ab53-2da9-44a0-bf8a-00a6badc1194",
   "metadata": {},
   "source": [
    "# Deploy the model"
   ]
  },
  {
   "cell_type": "code",
   "execution_count": 2,
   "id": "36ae1027",
   "metadata": {},
   "outputs": [],
   "source": [
    "import mlflow\n",
    "import tensorflow as tf\n",
    "import matplotlib.pyplot as plt"
   ]
  },
  {
   "cell_type": "code",
   "execution_count": 3,
   "id": "d685bbe7-e901-41bd-a131-0184a59f881b",
   "metadata": {},
   "outputs": [
    {
     "name": "stdout",
     "output_type": "stream",
     "text": [
      "WARNING:tensorflow:No training configuration found in save file, so the model was *not* compiled. Compile it manually.\n",
      "Model: \"generator\"\n",
      "_________________________________________________________________\n",
      " Layer (type)                Output Shape              Param #   \n",
      "=================================================================\n",
      " dense_1 (Dense)             (None, 16384)             2113536   \n",
      "                                                                 \n",
      " batch_normalization_3 (Batc  (None, 16384)            65536     \n",
      " hNormalization)                                                 \n",
      "                                                                 \n",
      " re_lu (ReLU)                (None, 16384)             0         \n",
      "                                                                 \n",
      " reshape (Reshape)           (None, 4, 4, 1024)        0         \n",
      "                                                                 \n",
      " conv2d_transpose (Conv2DTra  (None, 8, 8, 512)        13107712  \n",
      " nspose)                                                         \n",
      "                                                                 \n",
      " batch_normalization_4 (Batc  (None, 8, 8, 512)        2048      \n",
      " hNormalization)                                                 \n",
      "                                                                 \n",
      " re_lu_1 (ReLU)              (None, 8, 8, 512)         0         \n",
      "                                                                 \n",
      " conv2d_transpose_1 (Conv2DT  (None, 16, 16, 256)      3277056   \n",
      " ranspose)                                                       \n",
      "                                                                 \n",
      " batch_normalization_5 (Batc  (None, 16, 16, 256)      1024      \n",
      " hNormalization)                                                 \n",
      "                                                                 \n",
      " re_lu_2 (ReLU)              (None, 16, 16, 256)       0         \n",
      "                                                                 \n",
      " conv2d_transpose_2 (Conv2DT  (None, 32, 32, 128)      819328    \n",
      " ranspose)                                                       \n",
      "                                                                 \n",
      " batch_normalization_6 (Batc  (None, 32, 32, 128)      512       \n",
      " hNormalization)                                                 \n",
      "                                                                 \n",
      " re_lu_3 (ReLU)              (None, 32, 32, 128)       0         \n",
      "                                                                 \n",
      " conv2d_transpose_3 (Conv2DT  (None, 64, 64, 3)        3459      \n",
      " ranspose)                                                       \n",
      "                                                                 \n",
      "=================================================================\n",
      "Total params: 19,390,211\n",
      "Trainable params: 19,355,651\n",
      "Non-trainable params: 34,560\n",
      "_________________________________________________________________\n"
     ]
    }
   ],
   "source": [
    "num_noise = 128\n",
    "\n",
    "model_uri = \"runs:/6d5ec26eb32f456089142764ee67dfd0/gan\"\n",
    "gan = mlflow.tensorflow.load_model(\n",
    "    model_uri=model_uri\n",
    ")\n",
    "gan.summary()"
   ]
  },
  {
   "cell_type": "code",
   "execution_count": 19,
   "id": "268b8fd0-afbf-4e3f-815e-a2464ab0af6f",
   "metadata": {},
   "outputs": [
    {
     "data": {
      "text/plain": [
       "<tf.Tensor: shape=(1, 128), dtype=float32, numpy=\n",
       "array([[-5.1885437e-02, -1.5818789e+00,  8.9957225e-01,  3.4991071e-01,\n",
       "         6.4317971e-01, -3.4857759e-01, -2.5560455e+00, -8.3114856e-01,\n",
       "        -1.0520260e-01, -1.1270260e+00,  1.5409416e+00, -3.7552106e-01,\n",
       "         1.1883718e+00,  1.7312974e+00,  8.9742231e-01,  2.4082439e-01,\n",
       "         1.0297160e+00,  3.8191715e-01, -1.3509548e+00,  5.3628546e-01,\n",
       "         1.8922565e+00, -8.9568734e-01,  1.2701721e+00, -1.5507106e-03,\n",
       "         2.2556862e-01, -1.9578296e+00,  2.2452055e-01,  4.5216754e-01,\n",
       "        -8.4819812e-01, -1.9927672e-01, -6.4486963e-01, -1.8949769e-02,\n",
       "         2.1926163e-01, -2.5810221e-02,  1.4584060e+00,  7.5712985e-01,\n",
       "         7.9838663e-01,  7.7323657e-01,  1.0001602e+00, -1.3448805e+00,\n",
       "        -2.2160450e-02, -2.9765981e-01,  7.4860889e-01,  8.9756131e-02,\n",
       "        -1.0046691e+00,  9.4427747e-01,  2.1289396e+00,  1.7251382e+00,\n",
       "         1.2602571e+00,  5.5989909e-01, -6.6925538e-01, -6.7070466e-01,\n",
       "         9.7359031e-01, -2.4462584e-01,  5.9704173e-01, -8.8607140e-02,\n",
       "         2.8437352e-01,  7.1711934e-01, -9.7071922e-01,  1.0097121e+00,\n",
       "        -4.0420126e-02, -7.7602285e-01, -1.4546294e+00,  6.5483850e-01,\n",
       "         3.0904603e-01, -9.3446380e-01, -1.2645943e+00,  1.1690803e+00,\n",
       "        -2.5728781e+00,  7.6914001e-01,  7.8626728e-01, -6.4923388e-01,\n",
       "         1.2394917e+00,  1.3234662e+00,  1.0652701e+00,  1.1699935e+00,\n",
       "        -8.6174870e-01, -4.8305511e-01, -8.0780327e-01, -4.1964523e-02,\n",
       "        -4.8740998e-01,  1.4988221e+00, -4.9659261e-01,  4.6797790e-02,\n",
       "         1.5816016e-01, -8.4451428e-03,  2.2263618e+00,  1.0192827e+00,\n",
       "         2.0926063e+00, -1.0819191e+00,  6.3198537e-01,  7.7421457e-01,\n",
       "        -2.0497642e+00,  6.1343038e-01,  2.5446573e-01,  1.3334202e+00,\n",
       "         1.2530733e+00, -2.4602090e-01, -7.0165169e-01,  1.0181494e+00,\n",
       "         1.2372457e-01, -7.8208470e-01, -6.9566298e-01, -2.9643103e-01,\n",
       "        -1.1714066e+00, -8.9440620e-01, -3.9708614e-01, -4.8390418e-01,\n",
       "        -9.0774328e-02,  1.9122750e+00,  6.2836158e-01, -1.1416088e+00,\n",
       "         1.6339133e+00, -5.0719702e-01,  2.5937349e-01, -2.5535417e-01,\n",
       "        -1.0632538e+00, -8.3963436e-01, -8.2777131e-01, -2.4202815e-01,\n",
       "         9.3401164e-01,  1.4596494e+00,  1.7067552e+00, -1.3023173e+00,\n",
       "        -6.6967583e-01, -2.1754788e-01, -6.3849437e-01,  1.0809956e+00]],\n",
       "      dtype=float32)>"
      ]
     },
     "execution_count": 19,
     "metadata": {},
     "output_type": "execute_result"
    }
   ],
   "source": [
    "random_latent_vectors = tf.random.normal(\n",
    "    shape=(1, num_noise)\n",
    ")\n",
    "random_latent_vectors"
   ]
  },
  {
   "cell_type": "code",
   "execution_count": 20,
   "id": "4f274fc6-9f1c-4770-a3c3-8ca2cb0222b0",
   "metadata": {},
   "outputs": [
    {
     "name": "stdout",
     "output_type": "stream",
     "text": [
      "1/1 [==============================] - 0s 18ms/step\n"
     ]
    },
    {
     "data": {
      "text/plain": [
       "(1, 64, 64, 3)"
      ]
     },
     "execution_count": 20,
     "metadata": {},
     "output_type": "execute_result"
    }
   ],
   "source": [
    "gen_img = gan.predict(random_latent_vectors)\n",
    "gen_img.shape"
   ]
  },
  {
   "cell_type": "code",
   "execution_count": 21,
   "id": "ebb19ca1-36e5-4a0d-bf2b-47befda917e3",
   "metadata": {},
   "outputs": [
    {
     "name": "stderr",
     "output_type": "stream",
     "text": [
      "Clipping input data to the valid range for imshow with RGB data ([0..1] for floats or [0..255] for integers).\n"
     ]
    },
    {
     "data": {
      "text/plain": [
       "<matplotlib.image.AxesImage at 0x2460a5e1e70>"
      ]
     },
     "execution_count": 21,
     "metadata": {},
     "output_type": "execute_result"
    },
    {
     "data": {
      "image/png": "[encoded data removed]",
      "text/plain": [
       "<Figure size 640x480 with 1 Axes>"
      ]
     },
     "metadata": {},
     "output_type": "display_data"
    }
   ],
   "source": [
    "plt.imshow((gen_img[0] * 255).astype('int32'))"
   ]
  },
  {
   "cell_type": "code",
   "execution_count": null,
   "id": "0642de73-7f8a-45f8-b030-eb01df0d2cb6",
   "metadata": {},
   "outputs": [],
   "source": []
  }
 ],
 "metadata": {
  "kernelspec": {
   "display_name": "Python 3 (ipykernel)",
   "language": "python",
   "name": "python3"
  },
  "language_info": {
   "codemirror_mode": {
    "name": "ipython",
    "version": 3
   },
   "file_extension": ".py",
   "mimetype": "text/x-python",
   "name": "python",
   "nbconvert_exporter": "python",
   "pygments_lexer": "ipython3",
   "version": "3.10.13"
  }
 },
 "nbformat": 4,
 "nbformat_minor": 5
}
